{
 "cells": [
  {
   "cell_type": "code",
   "execution_count": 3,
   "id": "ae2c6d91",
   "metadata": {},
   "outputs": [
    {
     "data": {
      "application/vnd.jupyter.widget-view+json": {
       "model_id": "56fc8174b594488f923d302b8d0a31ce",
       "version_major": 2,
       "version_minor": 0
      },
      "text/plain": [
       "VBox(children=(HBox(children=(Button(button_style='primary', description='Discover Available Feature Types', l…"
      ]
     },
     "metadata": {},
     "output_type": "display_data"
    },
    {
     "data": {
      "application/vnd.jupyter.widget-view+json": {
       "model_id": "7b6a8f049a554d7c8c56c4daff4b1c69",
       "version_major": 2,
       "version_minor": 0
      },
      "text/plain": [
       "Map(center=[51.47, 7.55], controls=(AttributionControl(options=['position', 'prefix'], position='bottomright')…"
      ]
     },
     "metadata": {},
     "output_type": "display_data"
    },
    {
     "name": "stdout",
     "output_type": "stream",
     "text": [
      "Application setup complete.\n"
     ]
    },
    {
     "ename": "AttributeError",
     "evalue": "'Map' object has no attribute 'GeoJSON'",
     "output_type": "error",
     "traceback": [
      "\u001b[31m---------------------------------------------------------------------------\u001b[39m",
      "\u001b[31mAttributeError\u001b[39m                            Traceback (most recent call last)",
      "\u001b[36mCell\u001b[39m\u001b[36m \u001b[39m\u001b[32mIn[3]\u001b[39m\u001b[32m, line 73\u001b[39m, in \u001b[36m<lambda>\u001b[39m\u001b[34m(b)\u001b[39m\n\u001b[32m     67\u001b[39m app_context[\u001b[33m\"\u001b[39m\u001b[33mwidgets\u001b[39m\u001b[33m\"\u001b[39m][\u001b[33m'\u001b[39m\u001b[33mcancel_feature_edits_button\u001b[39m\u001b[33m'\u001b[39m].on_click(\n\u001b[32m     68\u001b[39m     \u001b[38;5;28;01mlambda\u001b[39;00m b: callbacks.on_cancel_feature_edits_button_clicked(app_context)\n\u001b[32m     69\u001b[39m )\n\u001b[32m     71\u001b[39m \u001b[38;5;66;03m# Feature cutting buttons\u001b[39;00m\n\u001b[32m     72\u001b[39m app_context[\u001b[33m\"\u001b[39m\u001b[33mwidgets\u001b[39m\u001b[33m\"\u001b[39m][\u001b[33m'\u001b[39m\u001b[33mcut_selected_button\u001b[39m\u001b[33m'\u001b[39m].on_click(\n\u001b[32m---> \u001b[39m\u001b[32m73\u001b[39m     \u001b[38;5;28;01mlambda\u001b[39;00m b: \u001b[43mcallbacks\u001b[49m\u001b[43m.\u001b[49m\u001b[43mon_cut_selected_button_clicked\u001b[49m\u001b[43m(\u001b[49m\u001b[43mapp_context\u001b[49m\u001b[43m)\u001b[49m\n\u001b[32m     74\u001b[39m )\n\u001b[32m     75\u001b[39m app_context[\u001b[33m\"\u001b[39m\u001b[33mwidgets\u001b[39m\u001b[33m\"\u001b[39m][\u001b[33m'\u001b[39m\u001b[33mcancel_cut_button\u001b[39m\u001b[33m'\u001b[39m].on_click(\n\u001b[32m     76\u001b[39m     \u001b[38;5;28;01mlambda\u001b[39;00m b: callbacks.on_cancel_cut_button_clicked(app_context)\n\u001b[32m     77\u001b[39m )\n\u001b[32m     79\u001b[39m \u001b[38;5;66;03m# File operations\u001b[39;00m\n",
      "\u001b[36mFile \u001b[39m\u001b[32m~/code_new/nrw_geotools/callbacks.py:68\u001b[39m, in \u001b[36mon_cut_selected_button_clicked\u001b[39m\u001b[34m(app_context)\u001b[39m\n\u001b[32m     67\u001b[39m \u001b[38;5;28;01mdef\u001b[39;00m\u001b[38;5;250m \u001b[39m\u001b[34mon_cut_selected_button_clicked\u001b[39m(app_context):\n\u001b[32m---> \u001b[39m\u001b[32m68\u001b[39m     \u001b[43mstart_cut_selected_features\u001b[49m\u001b[43m(\u001b[49m\u001b[43mapp_context\u001b[49m\u001b[43m)\u001b[49m\n",
      "\u001b[36mFile \u001b[39m\u001b[32m~/code_new/nrw_geotools/feature_cutter.py:212\u001b[39m, in \u001b[36mstart_cut_selected_features\u001b[39m\u001b[34m(app_context)\u001b[39m\n\u001b[32m    209\u001b[39m     \u001b[38;5;28;01mcontinue\u001b[39;00m\n\u001b[32m    211\u001b[39m layer_obj = m.find_layer(layer_name_sel)\n\u001b[32m--> \u001b[39m\u001b[32m212\u001b[39m \u001b[38;5;28;01mif\u001b[39;00m layer_obj \u001b[38;5;129;01mand\u001b[39;00m \u001b[38;5;28misinstance\u001b[39m(layer_obj, \u001b[43mm\u001b[49m\u001b[43m.\u001b[49m\u001b[43mGeoJSON\u001b[49m): \u001b[38;5;66;03m# Use m.GeoJSON for type check\u001b[39;00m\n\u001b[32m    213\u001b[39m     \u001b[38;5;28;01mfor\u001b[39;00m temp_id_sel \u001b[38;5;129;01min\u001b[39;00m sel_ids_in_layer.keys():\n\u001b[32m    214\u001b[39m         feature_to_check = \u001b[38;5;28;01mNone\u001b[39;00m\n",
      "\u001b[31mAttributeError\u001b[39m: 'Map' object has no attribute 'GeoJSON'"
     ]
    },
    {
     "ename": "AttributeError",
     "evalue": "module 'nrw_geotools.callbacks' has no attribute 'master_on_draw_handler'",
     "output_type": "error",
     "traceback": [
      "\u001b[31m---------------------------------------------------------------------------\u001b[39m",
      "\u001b[31mAttributeError\u001b[39m                            Traceback (most recent call last)",
      "\u001b[36mCell\u001b[39m\u001b[36m \u001b[39m\u001b[32mIn[3]\u001b[39m\u001b[32m, line 44\u001b[39m, in \u001b[36m<lambda>\u001b[39m\u001b[34m(dc_instance, action, geo_json)\u001b[39m\n\u001b[32m     37\u001b[39m app_context[\u001b[33m\"\u001b[39m\u001b[33mwidgets\u001b[39m\u001b[33m\"\u001b[39m][\u001b[33m'\u001b[39m\u001b[33mfetch_data_button\u001b[39m\u001b[33m'\u001b[39m].on_click(\n\u001b[32m     38\u001b[39m     \u001b[38;5;28;01mlambda\u001b[39;00m b: callbacks.on_fetch_data_button_clicked(app_context)\n\u001b[32m     39\u001b[39m )\n\u001b[32m     41\u001b[39m \u001b[38;5;66;03m# Map's main draw control actions (for user-drawn features)\u001b[39;00m\n\u001b[32m     42\u001b[39m \u001b[38;5;66;03m# The handler in feature_manager expects (draw_control_instance, action, geo_json, app_context)\u001b[39;00m\n\u001b[32m     43\u001b[39m app_context[\u001b[33m\"\u001b[39m\u001b[33mm\u001b[39m\u001b[33m\"\u001b[39m].draw_control.on_draw(\n\u001b[32m---> \u001b[39m\u001b[32m44\u001b[39m     \u001b[38;5;28;01mlambda\u001b[39;00m dc_instance, action, geo_json: \u001b[43mcallbacks\u001b[49m\u001b[43m.\u001b[49m\u001b[43mmaster_on_draw_handler\u001b[49m( \u001b[38;5;66;03m# Use the master handler\u001b[39;00m\n\u001b[32m     45\u001b[39m         dc_instance, action, geo_json, app_context\n\u001b[32m     46\u001b[39m     )\n\u001b[32m     47\u001b[39m )\n\u001b[32m     49\u001b[39m \u001b[38;5;66;03m# Feature management buttons\u001b[39;00m\n\u001b[32m     50\u001b[39m app_context[\u001b[33m\"\u001b[39m\u001b[33mwidgets\u001b[39m\u001b[33m\"\u001b[39m][\u001b[33m'\u001b[39m\u001b[33mkeep_selected_button\u001b[39m\u001b[33m'\u001b[39m].on_click(\n\u001b[32m     51\u001b[39m     \u001b[38;5;28;01mlambda\u001b[39;00m b: callbacks.on_keep_selected_button_clicked(app_context)\n\u001b[32m     52\u001b[39m )\n",
      "\u001b[31mAttributeError\u001b[39m: module 'nrw_geotools.callbacks' has no attribute 'master_on_draw_handler'"
     ]
    },
    {
     "ename": "AttributeError",
     "evalue": "'Map' object has no attribute 'GeoJSON'",
     "output_type": "error",
     "traceback": [
      "\u001b[31m---------------------------------------------------------------------------\u001b[39m",
      "\u001b[31mAttributeError\u001b[39m                            Traceback (most recent call last)",
      "\u001b[36mCell\u001b[39m\u001b[36m \u001b[39m\u001b[32mIn[3]\u001b[39m\u001b[32m, line 73\u001b[39m, in \u001b[36m<lambda>\u001b[39m\u001b[34m(b)\u001b[39m\n\u001b[32m     67\u001b[39m app_context[\u001b[33m\"\u001b[39m\u001b[33mwidgets\u001b[39m\u001b[33m\"\u001b[39m][\u001b[33m'\u001b[39m\u001b[33mcancel_feature_edits_button\u001b[39m\u001b[33m'\u001b[39m].on_click(\n\u001b[32m     68\u001b[39m     \u001b[38;5;28;01mlambda\u001b[39;00m b: callbacks.on_cancel_feature_edits_button_clicked(app_context)\n\u001b[32m     69\u001b[39m )\n\u001b[32m     71\u001b[39m \u001b[38;5;66;03m# Feature cutting buttons\u001b[39;00m\n\u001b[32m     72\u001b[39m app_context[\u001b[33m\"\u001b[39m\u001b[33mwidgets\u001b[39m\u001b[33m\"\u001b[39m][\u001b[33m'\u001b[39m\u001b[33mcut_selected_button\u001b[39m\u001b[33m'\u001b[39m].on_click(\n\u001b[32m---> \u001b[39m\u001b[32m73\u001b[39m     \u001b[38;5;28;01mlambda\u001b[39;00m b: \u001b[43mcallbacks\u001b[49m\u001b[43m.\u001b[49m\u001b[43mon_cut_selected_button_clicked\u001b[49m\u001b[43m(\u001b[49m\u001b[43mapp_context\u001b[49m\u001b[43m)\u001b[49m\n\u001b[32m     74\u001b[39m )\n\u001b[32m     75\u001b[39m app_context[\u001b[33m\"\u001b[39m\u001b[33mwidgets\u001b[39m\u001b[33m\"\u001b[39m][\u001b[33m'\u001b[39m\u001b[33mcancel_cut_button\u001b[39m\u001b[33m'\u001b[39m].on_click(\n\u001b[32m     76\u001b[39m     \u001b[38;5;28;01mlambda\u001b[39;00m b: callbacks.on_cancel_cut_button_clicked(app_context)\n\u001b[32m     77\u001b[39m )\n\u001b[32m     79\u001b[39m \u001b[38;5;66;03m# File operations\u001b[39;00m\n",
      "\u001b[36mFile \u001b[39m\u001b[32m~/code_new/nrw_geotools/callbacks.py:68\u001b[39m, in \u001b[36mon_cut_selected_button_clicked\u001b[39m\u001b[34m(app_context)\u001b[39m\n\u001b[32m     67\u001b[39m \u001b[38;5;28;01mdef\u001b[39;00m\u001b[38;5;250m \u001b[39m\u001b[34mon_cut_selected_button_clicked\u001b[39m(app_context):\n\u001b[32m---> \u001b[39m\u001b[32m68\u001b[39m     \u001b[43mstart_cut_selected_features\u001b[49m\u001b[43m(\u001b[49m\u001b[43mapp_context\u001b[49m\u001b[43m)\u001b[49m\n",
      "\u001b[36mFile \u001b[39m\u001b[32m~/code_new/nrw_geotools/feature_cutter.py:212\u001b[39m, in \u001b[36mstart_cut_selected_features\u001b[39m\u001b[34m(app_context)\u001b[39m\n\u001b[32m    209\u001b[39m     \u001b[38;5;28;01mcontinue\u001b[39;00m\n\u001b[32m    211\u001b[39m layer_obj = m.find_layer(layer_name_sel)\n\u001b[32m--> \u001b[39m\u001b[32m212\u001b[39m \u001b[38;5;28;01mif\u001b[39;00m layer_obj \u001b[38;5;129;01mand\u001b[39;00m \u001b[38;5;28misinstance\u001b[39m(layer_obj, \u001b[43mm\u001b[49m\u001b[43m.\u001b[49m\u001b[43mGeoJSON\u001b[49m): \u001b[38;5;66;03m# Use m.GeoJSON for type check\u001b[39;00m\n\u001b[32m    213\u001b[39m     \u001b[38;5;28;01mfor\u001b[39;00m temp_id_sel \u001b[38;5;129;01min\u001b[39;00m sel_ids_in_layer.keys():\n\u001b[32m    214\u001b[39m         feature_to_check = \u001b[38;5;28;01mNone\u001b[39;00m\n",
      "\u001b[31mAttributeError\u001b[39m: 'Map' object has no attribute 'GeoJSON'"
     ]
    },
    {
     "ename": "AttributeError",
     "evalue": "module 'nrw_geotools.callbacks' has no attribute 'master_on_draw_handler'",
     "output_type": "error",
     "traceback": [
      "\u001b[31m---------------------------------------------------------------------------\u001b[39m",
      "\u001b[31mAttributeError\u001b[39m                            Traceback (most recent call last)",
      "\u001b[36mCell\u001b[39m\u001b[36m \u001b[39m\u001b[32mIn[3]\u001b[39m\u001b[32m, line 44\u001b[39m, in \u001b[36m<lambda>\u001b[39m\u001b[34m(dc_instance, action, geo_json)\u001b[39m\n\u001b[32m     37\u001b[39m app_context[\u001b[33m\"\u001b[39m\u001b[33mwidgets\u001b[39m\u001b[33m\"\u001b[39m][\u001b[33m'\u001b[39m\u001b[33mfetch_data_button\u001b[39m\u001b[33m'\u001b[39m].on_click(\n\u001b[32m     38\u001b[39m     \u001b[38;5;28;01mlambda\u001b[39;00m b: callbacks.on_fetch_data_button_clicked(app_context)\n\u001b[32m     39\u001b[39m )\n\u001b[32m     41\u001b[39m \u001b[38;5;66;03m# Map's main draw control actions (for user-drawn features)\u001b[39;00m\n\u001b[32m     42\u001b[39m \u001b[38;5;66;03m# The handler in feature_manager expects (draw_control_instance, action, geo_json, app_context)\u001b[39;00m\n\u001b[32m     43\u001b[39m app_context[\u001b[33m\"\u001b[39m\u001b[33mm\u001b[39m\u001b[33m\"\u001b[39m].draw_control.on_draw(\n\u001b[32m---> \u001b[39m\u001b[32m44\u001b[39m     \u001b[38;5;28;01mlambda\u001b[39;00m dc_instance, action, geo_json: \u001b[43mcallbacks\u001b[49m\u001b[43m.\u001b[49m\u001b[43mmaster_on_draw_handler\u001b[49m( \u001b[38;5;66;03m# Use the master handler\u001b[39;00m\n\u001b[32m     45\u001b[39m         dc_instance, action, geo_json, app_context\n\u001b[32m     46\u001b[39m     )\n\u001b[32m     47\u001b[39m )\n\u001b[32m     49\u001b[39m \u001b[38;5;66;03m# Feature management buttons\u001b[39;00m\n\u001b[32m     50\u001b[39m app_context[\u001b[33m\"\u001b[39m\u001b[33mwidgets\u001b[39m\u001b[33m\"\u001b[39m][\u001b[33m'\u001b[39m\u001b[33mkeep_selected_button\u001b[39m\u001b[33m'\u001b[39m].on_click(\n\u001b[32m     51\u001b[39m     \u001b[38;5;28;01mlambda\u001b[39;00m b: callbacks.on_keep_selected_button_clicked(app_context)\n\u001b[32m     52\u001b[39m )\n",
      "\u001b[31mAttributeError\u001b[39m: module 'nrw_geotools.callbacks' has no attribute 'master_on_draw_handler'"
     ]
    },
    {
     "ename": "AttributeError",
     "evalue": "module 'nrw_geotools.callbacks' has no attribute 'master_on_draw_handler'",
     "output_type": "error",
     "traceback": [
      "\u001b[31m---------------------------------------------------------------------------\u001b[39m",
      "\u001b[31mAttributeError\u001b[39m                            Traceback (most recent call last)",
      "\u001b[36mCell\u001b[39m\u001b[36m \u001b[39m\u001b[32mIn[3]\u001b[39m\u001b[32m, line 44\u001b[39m, in \u001b[36m<lambda>\u001b[39m\u001b[34m(dc_instance, action, geo_json)\u001b[39m\n\u001b[32m     37\u001b[39m app_context[\u001b[33m\"\u001b[39m\u001b[33mwidgets\u001b[39m\u001b[33m\"\u001b[39m][\u001b[33m'\u001b[39m\u001b[33mfetch_data_button\u001b[39m\u001b[33m'\u001b[39m].on_click(\n\u001b[32m     38\u001b[39m     \u001b[38;5;28;01mlambda\u001b[39;00m b: callbacks.on_fetch_data_button_clicked(app_context)\n\u001b[32m     39\u001b[39m )\n\u001b[32m     41\u001b[39m \u001b[38;5;66;03m# Map's main draw control actions (for user-drawn features)\u001b[39;00m\n\u001b[32m     42\u001b[39m \u001b[38;5;66;03m# The handler in feature_manager expects (draw_control_instance, action, geo_json, app_context)\u001b[39;00m\n\u001b[32m     43\u001b[39m app_context[\u001b[33m\"\u001b[39m\u001b[33mm\u001b[39m\u001b[33m\"\u001b[39m].draw_control.on_draw(\n\u001b[32m---> \u001b[39m\u001b[32m44\u001b[39m     \u001b[38;5;28;01mlambda\u001b[39;00m dc_instance, action, geo_json: \u001b[43mcallbacks\u001b[49m\u001b[43m.\u001b[49m\u001b[43mmaster_on_draw_handler\u001b[49m( \u001b[38;5;66;03m# Use the master handler\u001b[39;00m\n\u001b[32m     45\u001b[39m         dc_instance, action, geo_json, app_context\n\u001b[32m     46\u001b[39m     )\n\u001b[32m     47\u001b[39m )\n\u001b[32m     49\u001b[39m \u001b[38;5;66;03m# Feature management buttons\u001b[39;00m\n\u001b[32m     50\u001b[39m app_context[\u001b[33m\"\u001b[39m\u001b[33mwidgets\u001b[39m\u001b[33m\"\u001b[39m][\u001b[33m'\u001b[39m\u001b[33mkeep_selected_button\u001b[39m\u001b[33m'\u001b[39m].on_click(\n\u001b[32m     51\u001b[39m     \u001b[38;5;28;01mlambda\u001b[39;00m b: callbacks.on_keep_selected_button_clicked(app_context)\n\u001b[32m     52\u001b[39m )\n",
      "\u001b[31mAttributeError\u001b[39m: module 'nrw_geotools.callbacks' has no attribute 'master_on_draw_handler'"
     ]
    }
   ],
   "source": [
    "import ipywidgets as widgets\n",
    "from IPython.display import display, clear_output as ipython_clear_output\n",
    "\n",
    "# Import the refactored package\n",
    "import nrw_geotools as ngt\n",
    "# For direct access to callback functions, if not re-exported via ngt.__init__\n",
    "from nrw_geotools import callbacks \n",
    "\n",
    "# 1. Initialize Application Context\n",
    "# This dictionary will hold all shared components and be passed to callbacks.\n",
    "app_context = {\n",
    "    \"m\": None,\n",
    "    \"widgets\": None,\n",
    "    \"config\": ngt.config,\n",
    "    \"state\": ngt.state, # Direct access to the state module\n",
    "}\n",
    "\n",
    "# 2. Create Map\n",
    "app_context[\"m\"] = ngt.map_setup.create_map()\n",
    "ngt.map_setup.add_initial_layers(app_context[\"m\"])\n",
    "\n",
    "# 3. Create UI Widgets\n",
    "app_context[\"widgets\"] = ngt.ui_manager.create_widgets()\n",
    "\n",
    "# File operations\n",
    "app_context[\"widgets\"]['save_selected_as_gml_button'].on_click(\n",
    "    lambda b: callbacks.on_save_gml_button_clicked(app_context)\n",
    ")\n",
    "\n",
    "# 4. Bind Callbacks\n",
    "#    We use lambdas to pass the app_context to our callback handlers.\n",
    "\n",
    "# WFS related\n",
    "app_context[\"widgets\"]['discover_button'].on_click(\n",
    "    lambda b: callbacks.on_discover_button_clicked(app_context)\n",
    ")\n",
    "app_context[\"widgets\"]['fetch_data_button'].on_click(\n",
    "    lambda b: callbacks.on_fetch_data_button_clicked(app_context)\n",
    ")\n",
    "\n",
    "# Map's main draw control actions (for user-drawn features)\n",
    "# The handler in feature_manager expects (draw_control_instance, action, geo_json, app_context)\n",
    "app_context[\"m\"].draw_control.on_draw(\n",
    "    lambda dc_instance, action, geo_json: callbacks.master_on_draw_handler( # Use the master handler\n",
    "        dc_instance, action, geo_json, app_context\n",
    "    )\n",
    ")\n",
    "\n",
    "# Feature management buttons\n",
    "app_context[\"widgets\"]['keep_selected_button'].on_click(\n",
    "    lambda b: callbacks.on_keep_selected_button_clicked(app_context)\n",
    ")\n",
    "app_context[\"widgets\"]['clear_selection_button'].on_click(\n",
    "    lambda b: callbacks.on_clear_selection_button_clicked(app_context)\n",
    ")\n",
    "app_context[\"widgets\"]['remove_selected_button'].on_click(\n",
    "    lambda b: callbacks.on_remove_selected_button_clicked(app_context)\n",
    ")\n",
    "\n",
    "# Feature editing buttons\n",
    "app_context[\"widgets\"]['edit_selected_feature_button'].on_click(\n",
    "    lambda b: callbacks.on_edit_selected_feature_button_clicked(app_context)\n",
    ")\n",
    "app_context[\"widgets\"]['apply_feature_edits_button'].on_click(\n",
    "    lambda b: callbacks.on_apply_feature_edits_button_clicked(app_context)\n",
    ")\n",
    "app_context[\"widgets\"]['cancel_feature_edits_button'].on_click(\n",
    "    lambda b: callbacks.on_cancel_feature_edits_button_clicked(app_context)\n",
    ")\n",
    "\n",
    "# Feature cutting buttons\n",
    "app_context[\"widgets\"]['cut_selected_button'].on_click(\n",
    "    lambda b: callbacks.on_cut_selected_button_clicked(app_context)\n",
    ")\n",
    "app_context[\"widgets\"]['cancel_cut_button'].on_click(\n",
    "    lambda b: callbacks.on_cancel_cut_button_clicked(app_context)\n",
    ")\n",
    "\n",
    "# File operations\n",
    "app_context[\"widgets\"]['save_selected_as_gml_button'].on_click(\n",
    "    lambda b: callbacks.on_save_gml_button_clicked(app_context)\n",
    ")\n",
    "\n",
    "\n",
    "# 5. Initialize Drawn Features Layer (after map and basic callbacks are set up)\n",
    "# The on_click_callback for the drawn_features_layer needs to be a lambda\n",
    "# that calls the generic on_geojson_feature_click_callback_base with the correct layer name and app_context.\n",
    "drawn_features_on_click_lambda = callbacks.get_geojson_click_handler(\n",
    "    app_context, app_context[\"config\"].DRAWN_FEATURES_LAYER_NAME\n",
    ")\n",
    "ngt.map_setup.initialize_drawn_features_layer_on_map(\n",
    "    app_context[\"m\"],\n",
    "    drawn_features_on_click_lambda\n",
    ")\n",
    "# The layer object is stored in app_context[\"state\"].drawn_features_layer by the function above.\n",
    "\n",
    "\n",
    "# 6. Layout UI\n",
    "ui_layout = ngt.ui_manager.layout_widgets(app_context[\"widgets\"])\n",
    "\n",
    "# 7. Display UI and Map\n",
    "display(ui_layout)\n",
    "display(app_context[\"m\"])\n",
    "\n",
    "# 8. Initial Button State Update\n",
    "ngt.ui_manager.update_all_button_states(app_context)\n",
    "\n",
    "print(\"Application setup complete.\")"
   ]
  }
 ],
 "metadata": {
  "kernelspec": {
   "display_name": ".venv",
   "language": "python",
   "name": "python3"
  },
  "language_info": {
   "codemirror_mode": {
    "name": "ipython",
    "version": 3
   },
   "file_extension": ".py",
   "mimetype": "text/x-python",
   "name": "python",
   "nbconvert_exporter": "python",
   "pygments_lexer": "ipython3",
   "version": "3.12.3"
  }
 },
 "nbformat": 4,
 "nbformat_minor": 5
}
