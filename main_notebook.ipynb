{
 "cells": [
  {
   "cell_type": "code",
   "execution_count": 1,
   "id": "ae2c6d91",
   "metadata": {},
   "outputs": [
    {
     "name": "stdout",
     "output_type": "stream",
     "text": [
      "nrw_geotools package loaded.\n"
     ]
    },
    {
     "data": {
      "application/vnd.jupyter.widget-view+json": {
       "model_id": "a10b0a9212824d9791ea5df8fb78550e",
       "version_major": 2,
       "version_minor": 0
      },
      "text/plain": [
       "VBox(children=(HBox(children=(Button(button_style='primary', description='Discover Available Feature Types', l…"
      ]
     },
     "metadata": {},
     "output_type": "display_data"
    },
    {
     "data": {
      "application/vnd.jupyter.widget-view+json": {
       "model_id": "bbaaa5d8447e4d069fadc273dbcfb6b7",
       "version_major": 2,
       "version_minor": 0
      },
      "text/plain": [
       "Map(center=[51.47, 7.55], controls=(AttributionControl(options=['position', 'prefix'], position='bottomright')…"
      ]
     },
     "metadata": {},
     "output_type": "display_data"
    },
    {
     "name": "stdout",
     "output_type": "stream",
     "text": [
      "Application setup complete.\n"
     ]
    }
   ],
   "source": [
    "import ipywidgets as widgets\n",
    "from IPython.display import display, clear_output as ipython_clear_output\n",
    "\n",
    "# Import the refactored package\n",
    "import nrw_geotools as ngt\n",
    "# For direct access to callback functions, if not re-exported via ngt.__init__\n",
    "from nrw_geotools import callbacks \n",
    "\n",
    "# 1. Initialize Application Context\n",
    "# This dictionary will hold all shared components and be passed to callbacks.\n",
    "app_context = {\n",
    "    \"m\": None,\n",
    "    \"widgets\": None,\n",
    "    \"config\": ngt.config,\n",
    "    \"state\": ngt.state, # Direct access to the state module\n",
    "}\n",
    "\n",
    "# 2. Create Map\n",
    "app_context[\"m\"] = ngt.map_setup.create_map()\n",
    "ngt.map_setup.add_initial_layers(app_context[\"m\"])\n",
    "\n",
    "# 3. Create UI Widgets\n",
    "app_context[\"widgets\"] = ngt.ui_manager.create_widgets()\n",
    "\n",
    "# File operations\n",
    "app_context[\"widgets\"]['save_selected_as_gml_button'].on_click(\n",
    "    lambda b: callbacks.on_save_gml_button_clicked(app_context)\n",
    ")\n",
    "\n",
    "# 4. Bind Callbacks\n",
    "#    We use lambdas to pass the app_context to our callback handlers.\n",
    "\n",
    "# WFS related\n",
    "app_context[\"widgets\"]['discover_button'].on_click(\n",
    "    lambda b: callbacks.on_discover_button_clicked(app_context)\n",
    ")\n",
    "app_context[\"widgets\"]['fetch_data_button'].on_click(\n",
    "    lambda b: callbacks.on_fetch_data_button_clicked(app_context)\n",
    ")\n",
    "\n",
    "# Map's main draw control actions (for user-drawn features)\n",
    "# The handler in feature_manager expects (draw_control_instance, action, geo_json, app_context)\n",
    "app_context[\"m\"].draw_control.on_draw(\n",
    "    lambda dc_instance, action, geo_json: callbacks.master_on_draw_handler( # Use the master handler\n",
    "        dc_instance, action, geo_json, app_context\n",
    "    )\n",
    ")\n",
    "\n",
    "# Feature management buttons\n",
    "app_context[\"widgets\"]['keep_selected_button'].on_click(\n",
    "    lambda b: callbacks.on_keep_selected_button_clicked(app_context)\n",
    ")\n",
    "app_context[\"widgets\"]['clear_selection_button'].on_click(\n",
    "    lambda b: callbacks.on_clear_selection_button_clicked(app_context)\n",
    ")\n",
    "app_context[\"widgets\"]['remove_selected_button'].on_click(\n",
    "    lambda b: callbacks.on_remove_selected_button_clicked(app_context)\n",
    ")\n",
    "\n",
    "# Feature editing buttons\n",
    "app_context[\"widgets\"]['edit_selected_feature_button'].on_click(\n",
    "    lambda b: callbacks.on_edit_selected_feature_button_clicked(app_context)\n",
    ")\n",
    "app_context[\"widgets\"]['apply_feature_edits_button'].on_click(\n",
    "    lambda b: callbacks.on_apply_feature_edits_button_clicked(app_context)\n",
    ")\n",
    "app_context[\"widgets\"]['cancel_feature_edits_button'].on_click(\n",
    "    lambda b: callbacks.on_cancel_feature_edits_button_clicked(app_context)\n",
    ")\n",
    "\n",
    "# Feature cutting buttons\n",
    "app_context[\"widgets\"]['cut_selected_button'].on_click(\n",
    "    lambda b: callbacks.on_cut_selected_button_clicked(app_context)\n",
    ")\n",
    "app_context[\"widgets\"]['cancel_cut_button'].on_click(\n",
    "    lambda b: callbacks.on_cancel_cut_button_clicked(app_context)\n",
    ")\n",
    "\n",
    "# File operations\n",
    "app_context[\"widgets\"]['save_selected_as_gml_button'].on_click(\n",
    "    lambda b: callbacks.on_save_gml_button_clicked(app_context)\n",
    ")\n",
    "\n",
    "\n",
    "# 5. Initialize Drawn Features Layer (after map and basic callbacks are set up)\n",
    "# The on_click_callback for the drawn_features_layer needs to be a lambda\n",
    "# that calls the generic on_geojson_feature_click_callback_base with the correct layer name and app_context.\n",
    "drawn_features_on_click_lambda = callbacks.get_geojson_click_handler(\n",
    "    app_context, app_context[\"config\"].DRAWN_FEATURES_LAYER_NAME\n",
    ")\n",
    "ngt.map_setup.initialize_drawn_features_layer_on_map(\n",
    "    app_context[\"m\"],\n",
    "    drawn_features_on_click_lambda\n",
    ")\n",
    "# The layer object is stored in app_context[\"state\"].drawn_features_layer by the function above.\n",
    "\n",
    "\n",
    "# 6. Layout UI\n",
    "ui_layout = ngt.ui_manager.layout_widgets(app_context[\"widgets\"])\n",
    "\n",
    "# 7. Display UI and Map\n",
    "display(ui_layout)\n",
    "display(app_context[\"m\"])\n",
    "\n",
    "# 8. Initial Button State Update\n",
    "ngt.ui_manager.update_all_button_states(app_context)\n",
    "\n",
    "print(\"Application setup complete.\")"
   ]
  }
 ],
 "metadata": {
  "kernelspec": {
   "display_name": ".venv",
   "language": "python",
   "name": "python3"
  },
  "language_info": {
   "codemirror_mode": {
    "name": "ipython",
    "version": 3
   },
   "file_extension": ".py",
   "mimetype": "text/x-python",
   "name": "python",
   "nbconvert_exporter": "python",
   "pygments_lexer": "ipython3",
   "version": "3.12.3"
  }
 },
 "nbformat": 4,
 "nbformat_minor": 5
}
